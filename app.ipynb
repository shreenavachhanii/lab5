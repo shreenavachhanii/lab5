{
 "cells": [
  {
   "cell_type": "code",
   "execution_count": null,
   "id": "45831fc4",
   "metadata": {},
   "outputs": [
    {
     "name": "stdout",
     "output_type": "stream",
     "text": [
      " * Serving Flask app '__main__'\n",
      " * Debug mode: off\n"
     ]
    },
    {
     "name": "stderr",
     "output_type": "stream",
     "text": [
      "WARNING: This is a development server. Do not use it in a production deployment. Use a production WSGI server instead.\n",
      " * Running on http://127.0.0.1:5000\n",
      "Press CTRL+C to quit\n",
      "127.0.0.1 - - [28/Jul/2024 12:46:41] \"GET / HTTP/1.1\" 200 -\n",
      "127.0.0.1 - - [28/Jul/2024 12:46:41] \"GET /favicon.ico HTTP/1.1\" 404 -\n",
      "127.0.0.1 - - [28/Jul/2024 12:47:49] \"GET / HTTP/1.1\" 200 -\n"
     ]
    }
   ],
   "source": [
    "from flask import Flask, request, jsonify\n",
    "import joblib\n",
    "import pandas as pd\n",
    "\n",
    "# Load the trained model\n",
    "model = joblib.load('model.pkl')\n",
    "\n",
    "# Initialize Flask app\n",
    "app = Flask(__name__)\n",
    "\n",
    "@app.route('/')\n",
    "def home():\n",
    "    return \"Welcome to the Fish Weight Prediction API!\"\n",
    "\n",
    "@app.route('/predict', methods=['POST'])\n",
    "def predict():\n",
    "    # Get the data from the POST request\n",
    "    data = request.get_json(force=True)\n",
    "    \n",
    "    # Convert data to DataFrame\n",
    "    input_data = pd.DataFrame(data, index=[0])\n",
    "    \n",
    "    # Ensure the same preprocessing as training\n",
    "    species_dummies = pd.get_dummies(input_data['Species'], drop_first=True)\n",
    "    input_data = input_data.drop('Species', axis=1)\n",
    "    input_data = input_data.join(species_dummies)\n",
    "    \n",
    "    # Predict the weight\n",
    "    prediction = model.predict(input_data)\n",
    "    \n",
    "    # Return the prediction as JSON\n",
    "    return jsonify({'prediction': prediction[0]})\n",
    "\n",
    "if __name__ == '__main__':\n",
    "    app.run(debug=False)\n"
   ]
  },
  {
   "cell_type": "code",
   "execution_count": null,
   "id": "215475be",
   "metadata": {},
   "outputs": [],
   "source": []
  }
 ],
 "metadata": {
  "kernelspec": {
   "display_name": "Python 3 (ipykernel)",
   "language": "python",
   "name": "python3"
  },
  "language_info": {
   "codemirror_mode": {
    "name": "ipython",
    "version": 3
   },
   "file_extension": ".py",
   "mimetype": "text/x-python",
   "name": "python",
   "nbconvert_exporter": "python",
   "pygments_lexer": "ipython3",
   "version": "3.9.13"
  }
 },
 "nbformat": 4,
 "nbformat_minor": 5
}
